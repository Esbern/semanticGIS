{
 "cells": [
  {
   "cell_type": "code",
   "execution_count": 1,
   "id": "9980fb42-c112-42c8-b13d-35f5d88732ec",
   "metadata": {},
   "outputs": [],
   "source": [
    "from semanticgis.abstract import Pipeline, RasterStep, VectorStep\n",
    "from semanticgis.compilers import mermaid, validate, qgis_recipy\n",
    "\n",
    "from IPython.display import display, Markdown\n",
    "\n"
   ]
  },
  {
   "cell_type": "code",
   "execution_count": 2,
   "id": "f865581d-948e-4bbf-a6b6-6e84986ecc5d",
   "metadata": {},
   "outputs": [],
   "source": [
    "p = Pipeline(name=\"Scaffold Test Workflow\")\n",
    "\n",
    "# Step 1: Load a vector layer (Correct)\n",
    "buildings = p.vector.load(\n",
    "    path=\"path/to/some/buildings.geojson\", #<-- CHANGE THIS PATH\n",
    "    label=\"Building Footprints\"\n",
    ")\n",
    "\n",
    "# Step 2: Load a raster layer (Correct)\n",
    "elevation = p.raster.load(\n",
    "    path=\"path/to/some/elevation.tif\", #<-- CHANGE THIS PATH\n",
    "    label=\"Elevation Model\"\n",
    ")\n",
    "\n",
    "# Step 3: Intentionally try to buffer the raster layer (INCORRECT!)\n",
    "# The 'buffer' method in our VectorOperations class expects a VectorStep.\n",
    "# This will test our type-checking validator.\n",
    "invalid_buffer_step = p.vector.buffer(\n",
    "    input_vector=buildings, \n",
    "    distance=50.0,\n",
    "    label=\"Invalid Buffer on Raster\"\n",
    ")\n"
   ]
  },
  {
   "cell_type": "code",
   "execution_count": 3,
   "id": "1dce24e0-0ed5-4e8a-a51e-38c29056eb74",
   "metadata": {},
   "outputs": [
    {
     "name": "stdout",
     "output_type": "stream",
     "text": [
      "✅ SUCCESS: All workflow checks passed!\n"
     ]
    }
   ],
   "source": [
    "validate.compile(p)"
   ]
  },
  {
   "cell_type": "code",
   "execution_count": 4,
   "id": "036c119a-d42b-42c0-852e-8a6e30e2a738",
   "metadata": {},
   "outputs": [
    {
     "data": {
      "text/markdown": [
       "# QGIS Recipe: Scaffold Test Workflow\n",
       "\n",
       "---\n",
       "\n",
       "### Step 1: Building Footprints\n",
       "\n",
       "**Action**: Load a vector layer.\n",
       "\n",
       "* **Details**: From the main menu, go to `Layer > Add Layer > Add Vector Layer...` and browse to the file at `path/to/some/buildings.geojson`.\n",
       "\n",
       "---\n",
       "\n",
       "### Step 2: Elevation Model\n",
       "\n",
       "**Action**: Load a raster layer.\n",
       "\n",
       "* **Details**: From the main menu, go to `Layer > Add Layer > Add Raster Layer...` and browse to the file at `path/to/some/elevation.tif`.\n",
       "\n",
       "---\n",
       "\n",
       "### Step 3: Invalid Buffer on Raster\n",
       "\n",
       "**Action**: Create a buffer.\n",
       "\n",
       "* **Details**: Go to the `Processing Toolbox` and search for the **Buffer** tool.\n",
       "* **Settings**:\n",
       "    * *Input layer*: `Building Footprints`\n",
       "    * *Distance*: `50.0`"
      ],
      "text/plain": [
       "<IPython.core.display.Markdown object>"
      ]
     },
     "metadata": {},
     "output_type": "display_data"
    }
   ],
   "source": [
    "# We use display and Markdown to render it beautifully\n",
    "display(Markdown( qgis_recipy.compile(p)))"
   ]
  },
  {
   "cell_type": "code",
   "execution_count": 5,
   "id": "bbfefa3b-69af-425b-8240-2bc8de8aa004",
   "metadata": {},
   "outputs": [
    {
     "data": {
      "text/markdown": [
       "```mermaid\n",
       "graph TD;\n",
       "\n",
       "    node_1[\"Building Footprints\"]\n",
       "    node_2[\"Elevation Model\"]\n",
       "    node_3[\"Invalid Buffer on Raster\"]\n",
       "\n",
       "    %% -- Connections --\n",
       "    node_1 --> node_3\n",
       "```"
      ],
      "text/plain": [
       "<IPython.core.display.Markdown object>"
      ]
     },
     "metadata": {},
     "output_type": "display_data"
    }
   ],
   "source": [
    "display(Markdown(mermaid.compile(p)))"
   ]
  },
  {
   "cell_type": "code",
   "execution_count": null,
   "id": "1e15630f-3df4-4e77-9b4f-21190e1ec98b",
   "metadata": {},
   "outputs": [],
   "source": []
  }
 ],
 "metadata": {
  "kernelspec": {
   "display_name": "Python 3 (ipykernel)",
   "language": "python",
   "name": "python3"
  },
  "language_info": {
   "codemirror_mode": {
    "name": "ipython",
    "version": 3
   },
   "file_extension": ".py",
   "mimetype": "text/x-python",
   "name": "python",
   "nbconvert_exporter": "python",
   "pygments_lexer": "ipython3",
   "version": "3.12.11"
  }
 },
 "nbformat": 4,
 "nbformat_minor": 5
}
